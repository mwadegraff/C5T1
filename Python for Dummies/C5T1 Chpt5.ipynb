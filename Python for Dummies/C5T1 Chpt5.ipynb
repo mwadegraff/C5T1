{
 "cells": [
  {
   "cell_type": "markdown",
   "metadata": {},
   "source": [
    "# Chapter 5 Excercises"
   ]
  },
  {
   "cell_type": "markdown",
   "metadata": {},
   "source": [
    "#### Uploading small amounts of data into memory"
   ]
  },
  {
   "cell_type": "code",
   "execution_count": 10,
   "metadata": {},
   "outputs": [
    {
     "name": "stdout",
     "output_type": "stream",
     "text": [
      "Colors.txt content:\n",
      "Color\tValue\n",
      "Red\t1\n",
      "Orange\t2\n",
      "Yellow\t3\n",
      "Green\t4\n",
      "Blue\t5\n",
      "Purple\t6\n",
      "Black\t7\n",
      "White\t8\n"
     ]
    }
   ],
   "source": [
    "with open(\"Colors.txt\", 'r') as open_file:\n",
    "    print('Colors.txt content:\\n' + open_file.read())"
   ]
  },
  {
   "cell_type": "markdown",
   "metadata": {},
   "source": [
    "#### Streaming large amounts of data into memory"
   ]
  },
  {
   "cell_type": "code",
   "execution_count": 5,
   "metadata": {},
   "outputs": [
    {
     "name": "stdout",
     "output_type": "stream",
     "text": [
      "Reading Data: Color\tValue\n",
      "\n",
      "Reading Data: Red\t1\n",
      "\n",
      "Reading Data: Orange\t2\n",
      "\n",
      "Reading Data: Yellow\t3\n",
      "\n",
      "Reading Data: Green\t4\n",
      "\n",
      "Reading Data: Blue\t5\n",
      "\n",
      "Reading Data: Purple\t6\n",
      "\n",
      "Reading Data: Black\t7\n",
      "\n",
      "Reading Data: White\t8\n"
     ]
    }
   ],
   "source": [
    "with open(\"Colors.txt\", 'r') as open_file:\n",
    "    for observation in open_file:\n",
    "        print('Reading Data: ' + observation)"
   ]
  },
  {
   "cell_type": "markdown",
   "metadata": {},
   "source": [
    "### Sampling data"
   ]
  },
  {
   "cell_type": "markdown",
   "metadata": {},
   "source": [
    "#### Fixed samples"
   ]
  },
  {
   "cell_type": "code",
   "execution_count": 7,
   "metadata": {},
   "outputs": [
    {
     "name": "stdout",
     "output_type": "stream",
     "text": [
      "Reading Line: 0 Content: Color\tValue\n",
      "\n",
      "Reading Line: 2 Content: Orange\t2\n",
      "\n",
      "Reading Line: 4 Content: Green\t4\n",
      "\n",
      "Reading Line: 6 Content: Purple\t6\n",
      "\n",
      "Reading Line: 8 Content: White\t8\n"
     ]
    }
   ],
   "source": [
    "n = 2\n",
    "with open(\"Colors.txt\", 'r') as open_file:\n",
    "    for j, observation in enumerate(open_file):\n",
    "        if j % n==0:\n",
    "            print('Reading Line: ' + str(j) + \n",
    "            ' Content: ' + observation)"
   ]
  },
  {
   "cell_type": "markdown",
   "metadata": {},
   "source": [
    "### Random samples pg90"
   ]
  },
  {
   "cell_type": "code",
   "execution_count": 9,
   "metadata": {
    "collapsed": true
   },
   "outputs": [],
   "source": [
    "from random import random"
   ]
  },
  {
   "cell_type": "code",
   "execution_count": 22,
   "metadata": {},
   "outputs": [
    {
     "name": "stdout",
     "output_type": "stream",
     "text": [
      "Reading Line: 0 Content: Color\tValue\n",
      "\n"
     ]
    }
   ],
   "source": [
    "sample_size = 0.25\n",
    "with open(\"Colors.txt\", 'r') as open_file:\n",
    "    for j, observation in enumerate(open_file):\n",
    "        if random()<=sample_size:\n",
    "            print('Reading Line: ' + str(j) + \n",
    "            ' Content: ' + observation)"
   ]
  },
  {
   "cell_type": "markdown",
   "metadata": {},
   "source": [
    "# Accessing Data in Structured Flat File Form"
   ]
  },
  {
   "cell_type": "markdown",
   "metadata": {},
   "source": [
    "## Reading from a text file\n",
    "\n",
    "Note: no need for \"io.parsers\""
   ]
  },
  {
   "cell_type": "code",
   "execution_count": 30,
   "metadata": {},
   "outputs": [
    {
     "name": "stdout",
     "output_type": "stream",
     "text": [
      "    Color  Value\n",
      "0     Red      1\n",
      "1  Orange      2\n",
      "2  Yellow      3\n",
      "3   Green      4\n",
      "4    Blue      5\n",
      "5  Purple      6\n",
      "6   Black      7\n",
      "7   White      8\n"
     ]
    }
   ],
   "source": [
    "import pandas as pd\n",
    "color_table = pd.read_table(\"Colors.txt\")\n",
    "print (color_table)"
   ]
  },
  {
   "cell_type": "markdown",
   "metadata": {},
   "source": [
    "## Reading CSV delimited format"
   ]
  },
  {
   "cell_type": "code",
   "execution_count": 34,
   "metadata": {},
   "outputs": [
    {
     "name": "stdout",
     "output_type": "stream",
     "text": [
      "[[ 29.        ]\n",
      " [  0.91670001]\n",
      " [  2.        ]\n",
      " ..., \n",
      " [ 26.5       ]\n",
      " [ 27.        ]\n",
      " [ 29.        ]]\n"
     ]
    }
   ],
   "source": [
    "import pandas as pd\n",
    "titanic = pd.read_csv(\"Titanic.csv\")\n",
    "#X = titanic[['age']]\n",
    "X = titanic[['age']].values\n",
    "print (X)"
   ]
  },
  {
   "cell_type": "markdown",
   "metadata": {},
   "source": [
    "## Reading Excel and other Microsoft Office files"
   ]
  },
  {
   "cell_type": "code",
   "execution_count": 40,
   "metadata": {},
   "outputs": [
    {
     "name": "stdout",
     "output_type": "stream",
     "text": [
      "    Angle (Degrees)      Sine    Cosine    Tangent\n",
      "0        138.550574  0.661959 -0.749540  -0.883153\n",
      "1        305.535745 -0.813753  0.581211  -1.400100\n",
      "2        280.518695 -0.983195  0.182556  -5.385709\n",
      "3        216.363795 -0.592910 -0.805269   0.736289\n",
      "4         36.389247  0.593268  0.805005   0.736974\n",
      "5         31.474311  0.522116  0.852874   0.612184\n",
      "6        120.121669  0.864962 -0.501838  -1.723588\n",
      "7        293.947055 -0.913921  0.405892  -2.251634\n",
      "8        179.882632  0.002048 -0.999998  -0.002048\n",
      "9        120.927562  0.857818 -0.513954  -1.669056\n",
      "10        71.349485  0.947487  0.319795   2.962796\n",
      "11       241.971082 -0.882711 -0.469917   1.878439\n",
      "12       297.208817 -0.889346  0.457235  -1.945053\n",
      "13       142.004551  0.615599 -0.788060  -0.781158\n",
      "14       173.770696  0.108508 -0.994096  -0.109152\n",
      "15       229.232002 -0.757360 -0.652998   1.159820\n",
      "16        67.926976  0.926706  0.375788   2.466033\n",
      "17       261.866575 -0.989941 -0.141479   6.997102\n",
      "18        59.185450  0.858830  0.512261   1.676547\n",
      "19        98.029275  0.990197 -0.139679  -7.089086\n",
      "20         9.336088  0.162225  0.986754   0.164403\n",
      "21        90.746371  0.999915 -0.013026 -76.761483\n",
      "22       217.798087 -0.612881 -0.790175   0.775626\n",
      "23        58.616049  0.853697  0.520771   1.639295\n",
      "24       197.196367 -0.295647 -0.955297   0.309482\n",
      "25       331.194892 -0.481832  0.876264  -0.549871\n",
      "26         6.509875  0.113374  0.993552   0.114110\n",
      "27       266.390707 -0.998017 -0.062952  15.853513\n",
      "28       230.323819 -0.769665 -0.638448   1.205525\n",
      "29       314.224257 -0.716615  0.697469  -1.027452\n",
      "..              ...       ...       ...        ...\n",
      "42       324.080564 -0.586647  0.809843  -0.724396\n",
      "43       140.893727  0.630761 -0.775977  -0.812860\n",
      "44       128.226889  0.785567 -0.618777  -1.269547\n",
      "45        82.770054  0.992049  0.125852   7.882680\n",
      "46       303.112455 -0.837600  0.546284  -1.533268\n",
      "47       164.824273  0.261780 -0.965127  -0.271239\n",
      "48       218.829827 -0.627009 -0.779012   0.804878\n",
      "49        28.649593  0.479452  0.877568   0.546341\n",
      "50       349.336296 -0.185044  0.982730  -0.188296\n",
      "51        84.889713  0.996025  0.089073  11.182105\n",
      "52       197.935862 -0.307952 -0.951402   0.323683\n",
      "53       303.049380 -0.838201  0.545362  -1.536963\n",
      "54       183.737235 -0.065181 -0.997873   0.065320\n",
      "55       346.153919 -0.239314  0.970942  -0.246477\n",
      "56       218.822745 -0.626913 -0.779089   0.804674\n",
      "57       243.969070 -0.898557 -0.438856   2.047498\n",
      "58       115.600771  0.901827 -0.432098  -2.087089\n",
      "59       125.906606  0.809974 -0.586466  -1.381111\n",
      "60       200.094363 -0.343567 -0.939128   0.365836\n",
      "61       337.860807 -0.376858  0.926271  -0.406855\n",
      "62       168.176975  0.204889 -0.978785  -0.209330\n",
      "63       305.708155 -0.812000  0.583657  -1.391229\n",
      "64       162.656078  0.298107 -0.954533  -0.312306\n",
      "65       219.007899 -0.629428 -0.777059   0.810012\n",
      "66       222.830465 -0.679831 -0.733368   0.926998\n",
      "67       324.199562 -0.584964  0.811059  -0.721234\n",
      "68       187.948172 -0.138277 -0.990394   0.139619\n",
      "69       270.678249 -0.999930  0.011837 -84.472139\n",
      "70       270.779159 -0.999908  0.013598 -73.530885\n",
      "71       200.213513 -0.345520 -0.938412   0.368196\n",
      "\n",
      "[72 rows x 4 columns]\n"
     ]
    }
   ],
   "source": [
    "import pandas as pd\n",
    "xls = pd.ExcelFile(\"Values.xls\")\n",
    "trig_values = xls.parse('Sheet1', index_col=None, \n",
    "                        na_values=['NA'])\n",
    "#trig_values = pd.read_excel(\"Values.xls\", 'Sheet1', index_col=None, na_values=['NA'])\n",
    "print (trig_values)"
   ]
  },
  {
   "cell_type": "markdown",
   "metadata": {},
   "source": [
    "# Import my data\n",
    "\n"
   ]
  },
  {
   "cell_type": "code",
   "execution_count": 59,
   "metadata": {},
   "outputs": [
    {
     "name": "stdout",
     "output_type": "stream",
     "text": [
      "      Unnamed: 0         X1   X2         X3        X4   X5     X6     X7  \\\n",
      "0             ID  LIMIT_BAL  SEX  EDUCATION  MARRIAGE  AGE  PAY_0  PAY_2   \n",
      "1              1      20000    2          2         1   24      2      2   \n",
      "2              2     120000    2          2         2   26     -1      2   \n",
      "3              3      90000    2          2         2   34      0      0   \n",
      "4              4      50000    2          2         1   37      0      0   \n",
      "5              5      50000    1          2         1   57     -1      0   \n",
      "6              6      50000    1          1         2   37      0      0   \n",
      "7              7     500000    1          1         2   29      0      0   \n",
      "8              8     100000    2          2         2   23      0     -1   \n",
      "9              9     140000    2          3         1   28      0      0   \n",
      "10            10      20000    1          3         2   35     -2     -2   \n",
      "11            11     200000    2          3         2   34      0      0   \n",
      "12            12     260000    2          1         2   51     -1     -1   \n",
      "13            13     630000    2          2         2   41     -1      0   \n",
      "14            14      70000    1          2         2   30      1      2   \n",
      "15            15     250000    1          1         2   29      0      0   \n",
      "16            16      50000    2          3         3   23      1      2   \n",
      "17            17      20000    1          1         2   24      0      0   \n",
      "18            18     320000    1          1         1   49      0      0   \n",
      "19            19     360000    2          1         1   49      1     -2   \n",
      "20            20     180000    2          1         2   29      1     -2   \n",
      "21            21     130000    2          3         2   39      0      0   \n",
      "22            22     120000    2          2         1   39     -1     -1   \n",
      "23            23      70000    2          2         2   26      2      0   \n",
      "24            24     450000    2          1         1   40     -2     -2   \n",
      "25            25      90000    1          1         2   23      0      0   \n",
      "26            26      50000    1          3         2   23      0      0   \n",
      "27            27      60000    1          1         2   27      1     -2   \n",
      "28            28      50000    2          3         2   30      0      0   \n",
      "29            29      50000    2          3         1   47     -1     -1   \n",
      "...          ...        ...  ...        ...       ...  ...    ...    ...   \n",
      "29971      29971     360000    1          1         1   34     -1     -1   \n",
      "29972      29972      80000    1          3         1   36      0      0   \n",
      "29973      29973     190000    1          1         1   37      0      0   \n",
      "29974      29974     230000    1          2         1   35      1     -2   \n",
      "29975      29975      50000    1          2         1   37      1      2   \n",
      "29976      29976     220000    1          2         1   41      0      0   \n",
      "29977      29977      40000    1          2         2   47      2      2   \n",
      "29978      29978     420000    1          1         2   34      0      0   \n",
      "29979      29979     310000    1          2         1   39      0      0   \n",
      "29980      29980     180000    1          1         1   32     -2     -2   \n",
      "29981      29981      50000    1          3         2   42      0      0   \n",
      "29982      29982      50000    1          2         1   44      1      2   \n",
      "29983      29983      90000    1          2         1   36      0      0   \n",
      "29984      29984      20000    1          2         1   44     -2     -2   \n",
      "29985      29985      30000    1          2         2   38     -1     -1   \n",
      "29986      29986     240000    1          1         2   30     -2     -2   \n",
      "29987      29987     360000    1          1         2   35     -1     -1   \n",
      "29988      29988     130000    1          1         2   34      0      0   \n",
      "29989      29989     250000    1          1         1   34      0      0   \n",
      "29990      29990     150000    1          1         2   35     -1     -1   \n",
      "29991      29991     140000    1          2         1   41      0      0   \n",
      "29992      29992     210000    1          2         1   34      3      2   \n",
      "29993      29993      10000    1          3         1   43      0      0   \n",
      "29994      29994     100000    1          1         2   38      0     -1   \n",
      "29995      29995      80000    1          2         2   34      2      2   \n",
      "29996      29996     220000    1          3         1   39      0      0   \n",
      "29997      29997     150000    1          3         2   43     -1     -1   \n",
      "29998      29998      30000    1          2         2   37      4      3   \n",
      "29999      29999      80000    1          3         1   41      1     -1   \n",
      "30000      30000      50000    1          2         1   46      0      0   \n",
      "\n",
      "          X8     X9             ...                    X15        X16  \\\n",
      "0      PAY_3  PAY_4             ...              BILL_AMT4  BILL_AMT5   \n",
      "1         -1     -1             ...                      0          0   \n",
      "2          0      0             ...                   3272       3455   \n",
      "3          0      0             ...                  14331      14948   \n",
      "4          0      0             ...                  28314      28959   \n",
      "5         -1      0             ...                  20940      19146   \n",
      "6          0      0             ...                  19394      19619   \n",
      "7          0      0             ...                 542653     483003   \n",
      "8         -1      0             ...                    221       -159   \n",
      "9          2      0             ...                  12211      11793   \n",
      "10        -2     -2             ...                      0      13007   \n",
      "11         2      0             ...                   2513       1828   \n",
      "12        -1     -1             ...                   8517      22287   \n",
      "13        -1     -1             ...                   6500       6500   \n",
      "14         2      0             ...                  66782      36137   \n",
      "15         0      0             ...                  59696      56875   \n",
      "16         0      0             ...                  28771      29531   \n",
      "17         2      2             ...                  18338      17905   \n",
      "18         0     -1             ...                  70074       5856   \n",
      "19        -2     -2             ...                      0          0   \n",
      "20        -2     -2             ...                      0          0   \n",
      "21         0      0             ...                  20616      11802   \n",
      "22        -1     -1             ...                      0        632   \n",
      "23         0      2             ...                  44006      46905   \n",
      "24        -2     -2             ...                    560          0   \n",
      "25         0     -1             ...                   5398       6360   \n",
      "26         0      0             ...                  28967      29829   \n",
      "27        -1     -1             ...                    -57        127   \n",
      "28         0      0             ...                  17878      18931   \n",
      "29        -1     -1             ...                   2040      30430   \n",
      "...      ...    ...             ...                    ...        ...   \n",
      "29971     -1      0             ...                  49005       8676   \n",
      "29972      0      0             ...                  69674      71070   \n",
      "29973      0      0             ...                  29223      19616   \n",
      "29974     -2     -2             ...                      0          0   \n",
      "29975      2      2             ...                   2846       1585   \n",
      "29976     -1     -1             ...                   5924       1759   \n",
      "29977      3      2             ...                  51259      47151   \n",
      "29978      0      0             ...                 141695     144839   \n",
      "29979      0      0             ...                 219409     216540   \n",
      "29980     -2     -2             ...                      0          0   \n",
      "29981      0      0             ...                  50360      19971   \n",
      "29982      2      2             ...                  28192      22676   \n",
      "29983      0      0             ...                  11328      12036   \n",
      "29984     -2     -2             ...                   2882       9235   \n",
      "29985     -2     -1             ...                   1993       1907   \n",
      "29986     -2     -2             ...                      0          0   \n",
      "29987     -2     -2             ...                      0          0   \n",
      "29988      0      0             ...                 108047      93708   \n",
      "29989      0      0             ...                 245750     175005   \n",
      "29990     -1     -1             ...                    780          0   \n",
      "29991      0      0             ...                 138262      49675   \n",
      "29992      2      2             ...                   2500       2500   \n",
      "29993      0     -2             ...                      0          0   \n",
      "29994     -1      0             ...                  70626      69473   \n",
      "29995      2      2             ...                  77519      82607   \n",
      "29996      0      0             ...                  88004      31237   \n",
      "29997     -1     -1             ...                   8979       5190   \n",
      "29998      2     -1             ...                  20878      20582   \n",
      "29999      0      0             ...                  52774      11855   \n",
      "30000      0      0             ...                  36535      32428   \n",
      "\n",
      "             X17       X18       X19       X20       X21       X22       X23  \\\n",
      "0      BILL_AMT6  PAY_AMT1  PAY_AMT2  PAY_AMT3  PAY_AMT4  PAY_AMT5  PAY_AMT6   \n",
      "1              0         0       689         0         0         0         0   \n",
      "2           3261         0      1000      1000      1000         0      2000   \n",
      "3          15549      1518      1500      1000      1000      1000      5000   \n",
      "4          29547      2000      2019      1200      1100      1069      1000   \n",
      "5          19131      2000     36681     10000      9000       689       679   \n",
      "6          20024      2500      1815       657      1000      1000       800   \n",
      "7         473944     55000     40000     38000     20239     13750     13770   \n",
      "8            567       380       601         0       581      1687      1542   \n",
      "9           3719      3329         0       432      1000      1000      1000   \n",
      "10         13912         0         0         0     13007      1122         0   \n",
      "11          3731      2306        12        50       300      3738        66   \n",
      "12         13668     21818      9966      8583     22301         0      3640   \n",
      "13          2870      1000      6500      6500      6500      2870         0   \n",
      "14         36894      3200         0      3000      3000      1500         0   \n",
      "15         55512      3000      3000      3000      3000      3000      3000   \n",
      "16         30211         0      1500      1100      1200      1300      1100   \n",
      "17         19104      3200         0      1500         0      1650         0   \n",
      "18        195599     10358     10000     75940     20000    195599     50000   \n",
      "19             0         0         0         0         0         0         0   \n",
      "20             0         0         0         0         0         0         0   \n",
      "21           930      3000      1537      1000      2000       930     33764   \n",
      "22           316       316       316         0       632       316         0   \n",
      "23         46012      2007      3582         0      3601         0      1820   \n",
      "24             0     19428      1473       560         0         0      1128   \n",
      "25          8292      5757         0      5398      1200      2045      2000   \n",
      "26         30046      1973      1426      1001      1432      1062       997   \n",
      "27          -189         0      1000         0       500         0      1000   \n",
      "28         19617      1300      1300      1000      1500      1000      1012   \n",
      "29           257      3415      3421      2044     30430       257         0   \n",
      "...          ...       ...       ...       ...       ...       ...       ...   \n",
      "29971      19487     52951     64535      8907        53     19584     16080   \n",
      "29972      73612      2395      2500      2530      2556      3700      3000   \n",
      "29973     148482      2000      3869     25128     10115    148482      4800   \n",
      "29974          0         0         0         0         0         0         0   \n",
      "29975       1324         0      3000         0         0      1000      1000   \n",
      "29976       1824      8840      6643      5924      1759      1824      7022   \n",
      "29977      46934      4000         0      2000         0      3520         0   \n",
      "29978     147954      7000      7000      5500      5500      5600      5000   \n",
      "29979     210675     10029      9218     10029      8049      8040     10059   \n",
      "29980          0         0         0         0         0         0         0   \n",
      "29981      19694     10000      4000      5000      3000      4500      2000   \n",
      "29982      14647      2300      1700         0       517       503       585   \n",
      "29983      14329      1500      1500      1500      1200      2500         0   \n",
      "29984       1719      2890      2720      2890      9263      1824      1701   \n",
      "29985       3319       923      2977      1999      3057      3319      1000   \n",
      "29986          0         0         0         0         0         0         0   \n",
      "29987          0         0         0         0         0         0         0   \n",
      "29988      97353      3000      2000     93000      4000      5027      4005   \n",
      "29989     179687     65000      8800      9011      6000      7000      6009   \n",
      "29990          0      9054         0       783         0         0         0   \n",
      "29991      46121      6000      7000      4228      1505      2000      2000   \n",
      "29992       2500         0         0         0         0         0         0   \n",
      "29993          0      2000         0         0         0         0         0   \n",
      "29994      55004      2000    111784      4000      3000      2000      2000   \n",
      "29995      81158      7000      3500         0      7000         0      4000   \n",
      "29996      15980      8500     20000      5003      3047      5000      1000   \n",
      "29997          0      1837      3526      8998       129         0         0   \n",
      "29998      19357         0         0     22000      4200      2000      3100   \n",
      "29999      48944     85900      3409      1178      1926     52964      1804   \n",
      "30000      15313      2078      1800      1430      1000      1000      1000   \n",
      "\n",
      "                                Y  \n",
      "0      default payment next month  \n",
      "1                               1  \n",
      "2                               1  \n",
      "3                               0  \n",
      "4                               0  \n",
      "5                               0  \n",
      "6                               0  \n",
      "7                               0  \n",
      "8                               0  \n",
      "9                               0  \n",
      "10                              0  \n",
      "11                              0  \n",
      "12                              0  \n",
      "13                              0  \n",
      "14                              1  \n",
      "15                              0  \n",
      "16                              0  \n",
      "17                              1  \n",
      "18                              0  \n",
      "19                              0  \n",
      "20                              0  \n",
      "21                              0  \n",
      "22                              1  \n",
      "23                              1  \n",
      "24                              1  \n",
      "25                              0  \n",
      "26                              0  \n",
      "27                              1  \n",
      "28                              0  \n",
      "29                              0  \n",
      "...                           ...  \n",
      "29971                           0  \n",
      "29972                           0  \n",
      "29973                           0  \n",
      "29974                           1  \n",
      "29975                           1  \n",
      "29976                           0  \n",
      "29977                           1  \n",
      "29978                           0  \n",
      "29979                           0  \n",
      "29980                           0  \n",
      "29981                           0  \n",
      "29982                           0  \n",
      "29983                           1  \n",
      "29984                           0  \n",
      "29985                           0  \n",
      "29986                           0  \n",
      "29987                           0  \n",
      "29988                           0  \n",
      "29989                           0  \n",
      "29990                           0  \n",
      "29991                           0  \n",
      "29992                           1  \n",
      "29993                           0  \n",
      "29994                           0  \n",
      "29995                           1  \n",
      "29996                           0  \n",
      "29997                           0  \n",
      "29998                           1  \n",
      "29999                           1  \n",
      "30000                           1  \n",
      "\n",
      "[30001 rows x 25 columns]\n"
     ]
    }
   ],
   "source": [
    "import pandas as pd\n",
    "\n",
    "creditCards = pd.read_csv(\"default of credit card clients.csv\")\n",
    "print (creditCards)"
   ]
  },
  {
   "cell_type": "markdown",
   "metadata": {},
   "source": [
    "# Sending Data in Unstructured File Form"
   ]
  },
  {
   "cell_type": "markdown",
   "metadata": {},
   "source": [
    "## Rendering the image"
   ]
  },
  {
   "cell_type": "code",
   "execution_count": 52,
   "metadata": {},
   "outputs": [
    {
     "data": {
      "image/png": "[encoded data removed]",
      "text/plain": [
       "<matplotlib.figure.Figure at 0x1c19857780>"
      ]
     },
     "metadata": {},
     "output_type": "display_data"
    }
   ],
   "source": [
    "from skimage.io import imread\n",
    "from skimage.transform import resize \n",
    "from matplotlib import pyplot as plt\n",
    "import matplotlib.cm as cm\n",
    "\n",
    "example_file = (\"http://upload.wikimedia.org/\" +\n",
    "    \"wikipedia/commons/7/7d/Dog_face.png\")\n",
    "image = imread(example_file, as_grey=True\n",
    "              )\n",
    "plt.imshow(image, cmap=cm.gray)\n",
    "plt.show()"
   ]
  },
  {
   "cell_type": "markdown",
   "metadata": {},
   "source": [
    "## Displaying the image information"
   ]
  },
  {
   "cell_type": "code",
   "execution_count": 53,
   "metadata": {},
   "outputs": [
    {
     "name": "stdout",
     "output_type": "stream",
     "text": [
      "data type: <class 'numpy.ndarray'>, shape: (90, 90)\n"
     ]
    }
   ],
   "source": [
    "print(\"data type: %s, shape: %s\" % \n",
    "      (type(image), image.shape))"
   ]
  },
  {
   "cell_type": "markdown",
   "metadata": {},
   "source": [
    "## Cropping the image"
   ]
  },
  {
   "cell_type": "code",
   "execution_count": 54,
   "metadata": {},
   "outputs": [
    {
     "data": {
      "image/png": "[encoded data removed]",
      "text/plain": [
       "<matplotlib.figure.Figure at 0x1c1a41ec88>"
      ]
     },
     "metadata": {},
     "output_type": "display_data"
    }
   ],
   "source": [
    "image2 = image[5:70,0:70]\n",
    "plt.imshow(image2, cmap=cm.gray)\n",
    "plt.show()"
   ]
  },
  {
   "cell_type": "markdown",
   "metadata": {},
   "source": [
    "## Resizing the image\n",
    "\n",
    "Not working. More info here: http://scikit-image.org/docs/dev/api/skimage.transform.html#skimage.transform.resize"
   ]
  },
  {
   "cell_type": "code",
   "execution_count": 55,
   "metadata": {},
   "outputs": [
    {
     "name": "stdout",
     "output_type": "stream",
     "text": [
      "data type: <class 'numpy.ndarray'>, shape: (30, 30)\n"
     ]
    }
   ],
   "source": [
    "image3 = resize(image2, (30, 30), mode='constant')\n",
    "plt.imshow(image3, cmap=cm.gray)\n",
    "print(\"data type: %s, shape: %s\" % \n",
    "      (type(image3), image3.shape))"
   ]
  },
  {
   "cell_type": "markdown",
   "metadata": {},
   "source": [
    "## Flatening the image"
   ]
  },
  {
   "cell_type": "code",
   "execution_count": 56,
   "metadata": {},
   "outputs": [
    {
     "name": "stdout",
     "output_type": "stream",
     "text": [
      "data type: <class 'numpy.ndarray'>, shape: (900,)\n"
     ]
    }
   ],
   "source": [
    "image_row = image3.flatten()\n",
    "print(\"data type: %s, shape: %s\" % \n",
    "      (type(image_row), image_row.shape))"
   ]
  },
  {
   "cell_type": "markdown",
   "metadata": {},
   "source": [
    "# Accessing Data from the Web"
   ]
  },
  {
   "cell_type": "code",
   "execution_count": 58,
   "metadata": {},
   "outputs": [
    {
     "name": "stdout",
     "output_type": "stream",
     "text": [
      "  Number  String Boolean\n",
      "0      1   First    True\n",
      "1      2  Second   False\n",
      "2      3   Third    True\n",
      "3      4  Fourth   False\n"
     ]
    }
   ],
   "source": [
    "from lxml import objectify\n",
    "import pandas as pd\n",
    "\n",
    "xml = objectify.parse(open('XMLData.xml'))\n",
    "root = xml.getroot()\n",
    "df = pd.DataFrame(columns=('Number', 'String', 'Boolean'))\n",
    "\n",
    "for i in range(0,4):\n",
    "    obj = root.getchildren()[i].getchildren()\n",
    "    row = dict(zip(['Number', 'String', 'Boolean'], \n",
    "                   [obj[0].text, obj[1].text, \n",
    "                    obj[2].text]))\n",
    "    row_s = pd.Series(row)\n",
    "    row_s.name = i\n",
    "    df = df.append(row_s)\n",
    "    \n",
    "print (df)"
   ]
  },
  {
   "cell_type": "code",
   "execution_count": null,
   "metadata": {
    "collapsed": true
   },
   "outputs": [],
   "source": []
  }
 ],
 "metadata": {
  "kernelspec": {
   "display_name": "Python 3",
   "language": "python",
   "name": "python3"
  },
  "language_info": {
   "codemirror_mode": {
    "name": "ipython",
    "version": 3
   },
   "file_extension": ".py",
   "mimetype": "text/x-python",
   "name": "python",
   "nbconvert_exporter": "python",
   "pygments_lexer": "ipython3",
   "version": "3.6.3"
  }
 },
 "nbformat": 4,
 "nbformat_minor": 1
}
